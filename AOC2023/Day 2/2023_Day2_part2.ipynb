{
 "cells": [
  {
   "cell_type": "markdown",
   "id": "a1dceb3b-9f66-4165-8802-b22c0f994b90",
   "metadata": {},
   "source": [
    "##  Part Two\n",
    "The Elf says they've stopped producing snow because they aren't getting any water! He isn't sure why the water stopped; however, he can show you how to get to the water source to check it out for yourself. It's just up ahead!\n",
    "\n",
    "As you continue your walk, the Elf poses a second question: in each game you played, what is the fewest number of cubes of each color that could have been in the bag to make the game possible?\n",
    "\n",
    "Again consider the example games from earlier:\n",
    "\n",
    "Game 1: 3 blue, 4 red; 1 red, 2 green, 6 blue; 2 green  \n",
    "Game 2: 1 blue, 2 green; 3 green, 4 blue, 1 red; 1 green, 1 blue  \n",
    "Game 3: 8 green, 6 blue, 20 red; 5 blue, 4 red, 13 green; 5 green, 1 red  \n",
    "Game 4: 1 green, 3 red, 6 blue; 3 green, 6 red; 3 green, 15 blue, 14 red  \n",
    "Game 5: 6 red, 1 blue, 3 green; 2 blue, 1 red, 2 green  \n",
    "\n",
    "In game 1, the game could have been played with as few as 4 red, 2 green, and 6 blue cubes. If any color had even one fewer cube, the game would have been impossible.  \n",
    "Game 2 could have been played with a minimum of 1 red, 3 green, and 4 blue cubes.  \n",
    "Game 3 must have been played with at least 20 red, 13 green, and 6 blue cubes.  \n",
    "Game 4 required at least 14 red, 3 green, and 15 blue cubes.  \n",
    "Game 5 needed no fewer than 6 red, 3 green, and 2 blue cubes in the bag.  \n",
    "\n",
    "The power of a set of cubes is equal to the numbers of red, green, and blue cubes multiplied together. The power of the minimum set of cubes in game 1 is 48. In games 2-5 it was 12, 1560, 630, and 36, respectively. Adding up these five powers produces the sum 2286.\n",
    "\n",
    "For each game, find the minimum set of cubes that must have been present. What is the sum of the power of these sets?\n",
    "\n"
   ]
  },
  {
   "cell_type": "code",
   "execution_count": 4,
   "id": "dc63e259-52d9-4353-b834-56b386deaa02",
   "metadata": {},
   "outputs": [
    {
     "name": "stdout",
     "output_type": "stream",
     "text": [
      "83707\n"
     ]
    }
   ],
   "source": [
    "import pandas as pd\n",
    "\n",
    "data = pd.read_table(\"input.txt\", header=None)\n",
    "final = 0\n",
    "\n",
    "for index, row in data.iterrows():\n",
    "    value = row[0]\n",
    "    value = value.split(\": \",1)[1] # Remove game ids\n",
    "    parts = value.split(\"; \") \n",
    "    color_dictionary = {}\n",
    "    for part in parts:\n",
    "        color_vals = part.split(\", \")\n",
    "\n",
    "        for item in color_vals:\n",
    "            count, color = item.split(\" \")\n",
    "            count = int(count)\n",
    "            if color in color_dictionary and count<color_dictionary[color]:\n",
    "                continue\n",
    "            else:\n",
    "                color_dictionary[color] = count\n",
    "    final += (color_dictionary.get('red', 0) * color_dictionary.get('blue', 0) * color_dictionary.get('green', 0))\n",
    "\n",
    "print(final)"
   ]
  },
  {
   "cell_type": "code",
   "execution_count": null,
   "id": "f33c6fec-ae5a-4ce1-89e7-1c5e3f1eb8e7",
   "metadata": {},
   "outputs": [],
   "source": []
  }
 ],
 "metadata": {
  "kernelspec": {
   "display_name": "Python 3 (ipykernel)",
   "language": "python",
   "name": "python3"
  },
  "language_info": {
   "codemirror_mode": {
    "name": "ipython",
    "version": 3
   },
   "file_extension": ".py",
   "mimetype": "text/x-python",
   "name": "python",
   "nbconvert_exporter": "python",
   "pygments_lexer": "ipython3",
   "version": "3.12.0"
  }
 },
 "nbformat": 4,
 "nbformat_minor": 5
}
