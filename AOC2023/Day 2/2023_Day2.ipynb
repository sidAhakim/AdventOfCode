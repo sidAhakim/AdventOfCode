{
 "cells": [
  {
   "cell_type": "markdown",
   "id": "172750bf",
   "metadata": {},
   "source": [
    "## Day 2: Cube Conundrum\n",
    "You're launched high into the atmosphere! The apex of your trajectory just barely reaches the surface of a large island floating in the sky. You gently land in a fluffy pile of leaves. It's quite cold, but you don't see much snow. An Elf runs over to greet you.\n",
    "\n",
    "The Elf explains that you've arrived at Snow Island and apologizes for the lack of snow. He'll be happy to explain the situation, but it's a bit of a walk, so you have some time. They don't get many visitors up here; would you like to play a game in the meantime?\n",
    "\n",
    "As you walk, the Elf shows you a small bag and some cubes which are either red, green, or blue. Each time you play this game, he will hide a secret number of cubes of each color in the bag, and your goal is to figure out information about the number of cubes.\n",
    "\n",
    "To get information, once a bag has been loaded with cubes, the Elf will reach into the bag, grab a handful of random cubes, show them to you, and then put them back in the bag. He'll do this a few times per game.\n",
    "\n",
    "You play several games and record the information from each game (your puzzle input). Each game is listed with its ID number (like the 11 in Game 11: ...) followed by a semicolon-separated list of subsets of cubes that were revealed from the bag (like 3 red, 5 green, 4 blue).\n",
    "\n",
    "For example, the record of a few games might look like this:\n",
    "\n",
    "Game 1: 3 blue, 4 red; 1 red, 2 green, 6 blue; 2 green\n",
    "Game 2: 1 blue, 2 green; 3 green, 4 blue, 1 red; 1 green, 1 blue\n",
    "Game 3: 8 green, 6 blue, 20 red; 5 blue, 4 red, 13 green; 5 green, 1 red\n",
    "Game 4: 1 green, 3 red, 6 blue; 3 green, 6 red; 3 green, 15 blue, 14 red\n",
    "Game 5: 6 red, 1 blue, 3 green; 2 blue, 1 red, 2 green\n",
    "In game 1, three sets of cubes are revealed from the bag (and then put back again). The first set is 3 blue cubes and 4 red cubes; the second set is 1 red cube, 2 green cubes, and 6 blue cubes; the third set is only 2 green cubes.\n",
    "\n",
    "The Elf would first like to know which games would have been possible if the bag contained only 12 red cubes, 13 green cubes, and 14 blue cubes?\n",
    "\n",
    "In the example above, games 1, 2, and 5 would have been possible if the bag had been loaded with that configuration. However, game 3 would have been impossible because at one point the Elf showed you 20 red cubes at once; similarly, game 4 would also have been impossible because the Elf showed you 15 blue cubes at once. If you add up the IDs of the games that would have been possible, you get 8.\n",
    "\n",
    "Determine which games would have been possible if the bag had been loaded with only 12 red cubes, 13 green cubes, and 14 blue cubes. What is the sum of the IDs of those games?\n",
    "\n",
    "To begin, get your puzzle input."
   ]
  },
  {
   "cell_type": "code",
   "execution_count": 1,
   "id": "a21879ed",
   "metadata": {},
   "outputs": [],
   "source": [
    "# Code: https://adventofcode.com/2023/day/2/input"
   ]
  },
  {
   "cell_type": "code",
   "execution_count": 11,
   "id": "c249a3ca",
   "metadata": {},
   "outputs": [
    {
     "name": "stdout",
     "output_type": "stream",
     "text": [
      "2685\n"
     ]
    }
   ],
   "source": [
    "import pandas as pd\n",
    "red_max = 12\n",
    "blue_max = 14\n",
    "green_max = 13\n",
    "data = pd.read_table(\"input.txt\", header=None)\n",
    "output = 0\n",
    "\n",
    "for index, row in data.iterrows():\n",
    "    value = row[0]\n",
    "    value = value.split(\": \",1)[1] # Remove game ids\n",
    "    parts = value.split(\"; \")\n",
    "    possible = True\n",
    "\n",
    "    for part in parts:\n",
    "        color_dictionary = {}\n",
    "        color_vals = part.split(\", \")\n",
    "\n",
    "        for item in color_vals:\n",
    "            count, color = item.split(\" \")\n",
    "            count = int(count)\n",
    "            if color in color_dictionary:\n",
    "                color_dictionary[color] += count\n",
    "            else:\n",
    "                color_dictionary[color] = count\n",
    "\n",
    "        if color_dictionary.get('red',0) > red_max or  color_dictionary.get('blue',0) > blue_max or color_dictionary.get('green',0) > green_max:\n",
    "            possible = False\n",
    "            break\n",
    "    if possible:\n",
    "        output += index + 1\n",
    "\n",
    "print (output)\n",
    "        \n",
    "\n",
    "        "
   ]
  }
 ],
 "metadata": {
  "kernelspec": {
   "display_name": "Python 3",
   "language": "python",
   "name": "python3"
  },
  "language_info": {
   "codemirror_mode": {
    "name": "ipython",
    "version": 3
   },
   "file_extension": ".py",
   "mimetype": "text/x-python",
   "name": "python",
   "nbconvert_exporter": "python",
   "pygments_lexer": "ipython3",
   "version": "3.12.0"
  }
 },
 "nbformat": 4,
 "nbformat_minor": 5
}
